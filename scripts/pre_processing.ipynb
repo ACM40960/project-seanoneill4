{
 "cells": [
  {
   "attachments": {},
   "cell_type": "markdown",
   "metadata": {},
   "source": [
    "## Data preprocessing"
   ]
  },
  {
   "cell_type": "code",
   "execution_count": 2,
   "metadata": {},
   "outputs": [],
   "source": [
    "# load necessary packages\n",
    "import netCDF4 as nc\n",
    "import numpy as np\n",
    "import pandas as pd\n",
    "import xarray as xr"
   ]
  },
  {
   "attachments": {},
   "cell_type": "markdown",
   "metadata": {},
   "source": [
    "### Temperature data\n",
    "\n",
    "- This data is pre-processed in `main.ipynb` in order to avoid a large intermediate `.csv` file.\n",
    "- Here we just extract the coordinates for later use."
   ]
  },
  {
   "cell_type": "code",
   "execution_count": 3,
   "metadata": {},
   "outputs": [],
   "source": [
    "# import NetCDF4 file\n",
    "globalT = xr.open_dataset(\"../data/downloads/temperature_ORIG.nc\")\n",
    "\n",
    "# extract the `tempanomaly` variable (time, lat, lon)\n",
    "globalT = globalT[\"tempanomaly\"].to_dataframe(dim_order=[\"lat\", \"lon\", \"time\"])[\"tempanomaly\"]\n",
    "\n",
    "# reset index\n",
    "globalT = globalT.reset_index()\n",
    "\n",
    "# extract lat/lon\n",
    "coords = globalT.loc[:,\"lat\":\"lon\"].drop_duplicates()\n",
    "\n",
    "# export to csv\n",
    "coords.to_csv(\"../data/processed/temp_coordinates.csv\", index=False)"
   ]
  },
  {
   "attachments": {},
   "cell_type": "markdown",
   "metadata": {},
   "source": [
    "### CO<sub>2</sub> Data\n",
    "\n",
    "- Removes the preamble from the `.csv` files"
   ]
  },
  {
   "cell_type": "code",
   "execution_count": 4,
   "metadata": {},
   "outputs": [],
   "source": [
    "# import data from .csv\n",
    "world = pd.read_csv(\"../data/downloads/global_co2_ORIG.csv\", sep=\",\", skiprows=55)\n",
    "mauna = pd.read_csv(\"../data/downloads/mauna_co2_ORIG.csv\", sep=\",\", skiprows=56)\n",
    "\n",
    "# export to csv\n",
    "world.to_csv(\"../data/processed/global_co2_PRO.csv\", index=False)\n",
    "mauna.to_csv(\"../data/processed/mauna_co2_PRO.csv\", index=False)"
   ]
  },
  {
   "attachments": {},
   "cell_type": "markdown",
   "metadata": {},
   "source": [
    "### Volcano Data\n",
    "\n",
    "- Counts the number of volcanic eruptions per year.\n",
    "\n",
    "- Note: must copy the \"Start Year\" column from file `volcano_RAW.xls` to a `.csv` file."
   ]
  },
  {
   "cell_type": "code",
   "execution_count": 6,
   "metadata": {},
   "outputs": [],
   "source": [
    "# import data from .csv\n",
    "volcano = pd.read_csv(\"../data/downloads/volcano_ORIG.csv\")\n",
    "\n",
    "# year column\n",
    "years = volcano[\"year\"]\n",
    "# count number of eruptions recorded per year\n",
    "counts = years.value_counts()\n",
    "# combine years with counts\n",
    "data = pd.DataFrame({'year': counts.index, 'count': counts.values})\n",
    "# sort dataframe by year\n",
    "data = data.sort_values(\"year\", ascending=True)\n",
    "\n",
    "# export to csv\n",
    "data.to_csv(\"../data/processed/volcano_PRO.csv\", index=False)"
   ]
  },
  {
   "attachments": {},
   "cell_type": "markdown",
   "metadata": {},
   "source": [
    "### Irradiance Data\n",
    "\n",
    "- Converts the `time` variable from a decimal interval to years.\n",
    "- Converts the `.nc` file to a more useable `.csv` file."
   ]
  },
  {
   "cell_type": "code",
   "execution_count": 7,
   "metadata": {},
   "outputs": [],
   "source": [
    "# import NetCDF4 file\n",
    "data = nc.Dataset(\"../data/downloads/irradiance_ORIG.nc\")\n",
    "\n",
    "# create pandas series for each variable\n",
    "TSI = pd.Series(data[\"TSI\"][:])\n",
    "TSI_UNC = pd.Series(data[\"TSI_UNC\"][:])\n",
    "time = pd.Series(data[\"time\"][:])\n",
    "time_bnds_lwr = pd.Series(data[\"time_bnds\"][:,0])\n",
    "time_bnds_upr = pd.Series(data[\"time_bnds\"][:,1])\n",
    "\n",
    "# year variable\n",
    "year = np.arange(1610, 2023)\n",
    "\n",
    "# create dictionary to convert to pandas DataFrame\n",
    "for_df = {\"year\":year, \"TSI\":TSI, \"TSI_UNC\":TSI_UNC, \\\n",
    "         \"time_bnds_lwr\":time_bnds_lwr, \"time_bnds_upr\":time_bnds_upr}\n",
    "\n",
    "# dataframe\n",
    "df = pd.DataFrame(for_df)\n",
    "\n",
    "# export dataframe to CSV\n",
    "df.to_csv(\"../data/processed/irradiance_PRO.csv\", index=False)"
   ]
  }
 ],
 "metadata": {
  "kernelspec": {
   "display_name": "base",
   "language": "python",
   "name": "python3"
  },
  "language_info": {
   "codemirror_mode": {
    "name": "ipython",
    "version": 3
   },
   "file_extension": ".py",
   "mimetype": "text/x-python",
   "name": "python",
   "nbconvert_exporter": "python",
   "pygments_lexer": "ipython3",
   "version": "3.9.12"
  },
  "orig_nbformat": 4
 },
 "nbformat": 4,
 "nbformat_minor": 2
}
